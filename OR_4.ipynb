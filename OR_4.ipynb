{
  "nbformat": 4,
  "nbformat_minor": 0,
  "metadata": {
    "colab": {
      "provenance": [],
      "authorship_tag": "ABX9TyPWDUe9CDbyOJRqqrAKOx+J",
      "include_colab_link": true
    },
    "kernelspec": {
      "name": "python3",
      "display_name": "Python 3"
    },
    "language_info": {
      "name": "python"
    }
  },
  "cells": [
    {
      "cell_type": "markdown",
      "metadata": {
        "id": "view-in-github",
        "colab_type": "text"
      },
      "source": [
        "<a href=\"https://colab.research.google.com/github/gottanned/Operational-Research/blob/main/OR_4.ipynb\" target=\"_parent\"><img src=\"https://colab.research.google.com/assets/colab-badge.svg\" alt=\"Open In Colab\"/></a>"
      ]
    },
    {
      "cell_type": "markdown",
      "source": [
        "#Mathematical Method\n",
        "Note: exclusively written for this particular problem as everything is deeply hardcoded and also will not work with one solution quad func."
      ],
      "metadata": {
        "id": "TC-jNGc-NRhb"
      }
    },
    {
      "cell_type": "code",
      "source": [
        "import numpy as np\n",
        "import cmath\n",
        "def quadCalc(a,b,c):\n",
        "  d = (b**2) - (4*a*c)\n",
        "  sol1 = (-b-cmath.sqrt(d))/(2*a)\n",
        "  sol2 = (-b+cmath.sqrt(d))/(2*a)\n",
        "  return [sol1.real, sol2.real]\n",
        "\n",
        "def calc1(n):\n",
        "  sols = quadCalc(1,-7,10)\n",
        "  A = np.array([[pow(sols[0],0), pow(sols[1], 0)], [pow(sols[0],1), pow(sols[1], 1)]])\n",
        "  b = np.array([1,3])\n",
        "  a_s = np.linalg.solve(A,b)\n",
        "  return a_s[0]*pow(sols[0], n) + a_s[1]*pow(sols[1], n)\n",
        "\n",
        "calc1(10)\n",
        "\n"
      ],
      "metadata": {
        "id": "MCrB1pTZDg-q",
        "colab": {
          "base_uri": "https://localhost:8080/"
        },
        "outputId": "7151c570-5a2b-40e1-ad26-8759c8e74778"
      },
      "execution_count": null,
      "outputs": [
        {
          "output_type": "execute_result",
          "data": {
            "text/plain": [
              "3255890.9999999995"
            ]
          },
          "metadata": {},
          "execution_count": 36
        }
      ]
    },
    {
      "cell_type": "markdown",
      "source": [
        "#Dynamic Programming\n"
      ],
      "metadata": {
        "id": "0m0EzSAoNPpm"
      }
    },
    {
      "cell_type": "code",
      "source": [
        "\n",
        "def calc2(n):\n",
        "  if n==0:\n",
        "    return 1\n",
        "  elif n==1:\n",
        "    return 3\n",
        "  else:\n",
        "    return 7*calc2(n-1) -10*calc2(n-2)\n",
        "\n",
        "calc2(10)"
      ],
      "metadata": {
        "colab": {
          "base_uri": "https://localhost:8080/"
        },
        "id": "zflEH3VABnpU",
        "outputId": "56334cb7-d282-4ccf-9ace-9c1a84e46f6b"
      },
      "execution_count": null,
      "outputs": [
        {
          "output_type": "execute_result",
          "data": {
            "text/plain": [
              "3255891"
            ]
          },
          "metadata": {},
          "execution_count": 34
        }
      ]
    },
    {
      "cell_type": "markdown",
      "source": [
        "#Dynamic Programming with Memoization"
      ],
      "metadata": {
        "id": "VjyTlJUtNtKN"
      }
    },
    {
      "cell_type": "code",
      "source": [
        "from collections import defaultdict\n",
        "\n",
        "calculated = defaultdict(int)\n",
        "calculated[0] = 1\n",
        "calculated[1] = 3\n",
        "\n",
        "def memCalc(n):\n",
        "  if n==0:\n",
        "    return calculated[0]\n",
        "  elif n==1:\n",
        "    return calculated[1]\n",
        "  else:\n",
        "    if n not in calculated:\n",
        "      calculated[n] = 7*memCalc(n-1) -10*memCalc(n-2)\n",
        "    return calculated[n]\n",
        "\n",
        "memCalc(10)"
      ],
      "metadata": {
        "id": "7u3uqJLpCLW_",
        "colab": {
          "base_uri": "https://localhost:8080/"
        },
        "outputId": "2678e1a8-9276-41ee-871e-f061cc527ede"
      },
      "execution_count": null,
      "outputs": [
        {
          "output_type": "execute_result",
          "data": {
            "text/plain": [
              "3255891"
            ]
          },
          "metadata": {},
          "execution_count": 35
        }
      ]
    },
    {
      "cell_type": "markdown",
      "source": [
        "#Comparison"
      ],
      "metadata": {
        "id": "4Tq5ZK4_N4R8"
      }
    },
    {
      "cell_type": "markdown",
      "source": [
        "**Mathematical method**\n",
        "<br>\n",
        "Pro:\n",
        "<br>Straight forward\n",
        "<br>Faster\n",
        "\n",
        "<br>Cons:\n",
        "<br>Harder to scale up the problem\n",
        "<br>Edge cases\n",
        "<br>Overal time complexity for the first 1000 number:\n",
        "<br>Time complexity is about n, and for N number, it would be\n",
        "$N*(1+2+3+...+n-1+n)=N*\\frac{1}{2}*(n-1)*n$\n",
        "<br>\n",
        "<br>\n",
        "**Dynamic Programming**\n",
        "<br>Pro:\n",
        "<br>Intuitive\n",
        "<br>Programmatically elegent\n",
        "<br>Easier to expand and scale up the problem, though time complexity might suffer\n",
        "<br>Cons:\n",
        "Worse time complexity of all\n",
        "<br>\n",
        "Time complexity: $N^2$\n",
        "Therefore, for the first n numbers, it would be: $n*(\\frac{1}{2}*N*(N-1))^2$\n",
        "\n",
        "\n",
        "**Dynamic Programming with memorization**\n",
        "<br>Pro: Faster than DP since we do not recalculate what we have already calculated.\n",
        "<br>Con: Takes up memories\n",
        "<br>Time complexity: N^2 for the first calculation, then Constant or N depending on cases.\n",
        "<br> For the first 1000 numbers: N=1000 as we calculate upward use we what we have calculated for the next number\n",
        "\n",
        "\n",
        "\n",
        "\n",
        "\n",
        "\n",
        "\n",
        "\n"
      ],
      "metadata": {
        "id": "nWX9J46VN7kY"
      }
    },
    {
      "cell_type": "code",
      "source": [],
      "metadata": {
        "id": "SvYipXCePtnl"
      },
      "execution_count": null,
      "outputs": []
    }
  ]
}