{
  "nbformat": 4,
  "nbformat_minor": 0,
  "metadata": {
    "colab": {
      "provenance": [],
      "authorship_tag": "ABX9TyMvod48sg5IKkOVbvYou7Rg",
      "include_colab_link": true
    },
    "kernelspec": {
      "name": "python3",
      "display_name": "Python 3"
    },
    "language_info": {
      "name": "python"
    }
  },
  "cells": [
    {
      "cell_type": "markdown",
      "metadata": {
        "id": "view-in-github",
        "colab_type": "text"
      },
      "source": [
        "<a href=\"https://colab.research.google.com/github/gottanned/Operational-Research/blob/main/OR_last.ipynb\" target=\"_parent\"><img src=\"https://colab.research.google.com/assets/colab-badge.svg\" alt=\"Open In Colab\"/></a>"
      ]
    },
    {
      "cell_type": "markdown",
      "source": [
        "#1. Random Func Call"
      ],
      "metadata": {
        "id": "zDcOujuMaCeP"
      }
    },
    {
      "cell_type": "code",
      "execution_count": 5,
      "metadata": {
        "colab": {
          "base_uri": "https://localhost:8080/"
        },
        "id": "yVmMrbNeVQg_",
        "outputId": "331f5ed5-027f-4d90-e871-2644716d7291"
      },
      "outputs": [
        {
          "output_type": "stream",
          "name": "stdout",
          "text": [
            "[10, 10, 10, 10, 10, 9, 10, 10, 10, 10]\n",
            "[10, 10, 10, 10, 10, 10, 10, 10, 10, 10]\n",
            "[10, 10, 10, 10, 10, 10, 10, 10, 9, 10]\n"
          ]
        }
      ],
      "source": [
        "import random\n",
        "import matplotlib.pyplot as plt\n",
        "\n",
        "def randomNum(n):\n",
        "  ans = []\n",
        "  for _ in range(n):\n",
        "    x = random.uniform(0, 1)\n",
        "    #true for 10 oz, false for 9 oz\n",
        "    if x < 0.1:\n",
        "      ans.append(9)\n",
        "    else:\n",
        "      ans.append(10)\n",
        "  return ans\n",
        "\n",
        "for _ in range(3):\n",
        "  print(randomNum(10))\n",
        "\n",
        "\n"
      ]
    },
    {
      "cell_type": "code",
      "source": [
        "# one-liner because I just had to\n",
        "def randomNum2(n):\n",
        "  return [ 10 if random.uniform(0, 1) > 0.1 else 9 for _ in range(n)  ]\n",
        "\n",
        "for _ in range(3):\n",
        "  print(randomNum2(10))"
      ],
      "metadata": {
        "colab": {
          "base_uri": "https://localhost:8080/"
        },
        "id": "b_kC32DQZb_j",
        "outputId": "65232e31-7cb3-4f77-f03e-6ec6f912a8f2"
      },
      "execution_count": 6,
      "outputs": [
        {
          "output_type": "stream",
          "name": "stdout",
          "text": [
            "[10, 10, 10, 10, 10, 10, 10, 10, 10, 10]\n",
            "[10, 9, 9, 10, 10, 10, 10, 10, 10, 10]\n",
            "[10, 10, 10, 10, 10, 10, 10, 9, 10, 10]\n"
          ]
        }
      ]
    },
    {
      "cell_type": "markdown",
      "source": [
        "#Expected Weight"
      ],
      "metadata": {
        "id": "i3Y6IIRqaH4N"
      }
    },
    {
      "cell_type": "code",
      "source": [
        "#expected weight from the random pull using text book formula\n",
        "#given that 9 out 10 bottle will have 10oz, meaning it is 0.9 prob for a bottle to have 10oz, and 0.1 for it to have 9oz\n",
        "\n",
        "print(\"Expected weight from the random pull is: \", 0.1*9 + 0.9*10)"
      ],
      "metadata": {
        "colab": {
          "base_uri": "https://localhost:8080/"
        },
        "id": "OXULlxzPGpzK",
        "outputId": "be33c106-2716-4071-ad4d-bc1a2eb39cfc"
      },
      "execution_count": 7,
      "outputs": [
        {
          "output_type": "stream",
          "name": "stdout",
          "text": [
            "Expected weight from the random pull is:  9.9\n"
          ]
        }
      ]
    },
    {
      "cell_type": "markdown",
      "source": [
        "#Expected Weight via Simulation"
      ],
      "metadata": {
        "id": "PrbK5_ocaNHM"
      }
    },
    {
      "cell_type": "code",
      "source": [
        "#one-liner again. I'm sorry\n",
        "#expected weight by simulation of drawing 10000 bottles\n",
        "def calcProb(n):\n",
        "  return  sum([ sum(randomNum2(10))/10 for _ in range(n)])/n\n",
        "calcProb(10000)\n",
        "\n",
        "#I think it agress with my theory"
      ],
      "metadata": {
        "colab": {
          "base_uri": "https://localhost:8080/"
        },
        "id": "woj5T3_N47LJ",
        "outputId": "05787f26-2613-4ed9-ba95-1e0eb999f710"
      },
      "execution_count": 8,
      "outputs": [
        {
          "output_type": "execute_result",
          "data": {
            "text/plain": [
              "9.899439999999743"
            ]
          },
          "metadata": {},
          "execution_count": 8
        }
      ]
    },
    {
      "cell_type": "markdown",
      "source": [
        "#Expected Pull"
      ],
      "metadata": {
        "id": "mCSjLzj8adeX"
      }
    },
    {
      "cell_type": "markdown",
      "source": [
        "Let $x$ be the number of pulls until we obtain the first success (in this case it is when we draw the first $9$oz bottle) witht the probability of $0.9$. <br/>\n",
        "After the first draw, it is either we pick the 9oz bottle and succeed with one pull, or we pick the 10oz bottle and continue with $x+1$ pull. Hence the equation: <br/><br/>\n",
        "$x = 0.1*(1) + 0.9*(x+1)$<br/>\n",
        "Which gives us $x=10$ <br/>\n",
        "Therefore, we expect to get the 9oz bottle after 10 pulls."
      ],
      "metadata": {
        "id": "LWrvdBweQ0qe"
      }
    },
    {
      "cell_type": "markdown",
      "source": [
        "#Expected Pull via Simulation"
      ],
      "metadata": {
        "id": "4Wu_vPQ8aYS1"
      }
    },
    {
      "cell_type": "code",
      "source": [
        "#Now let's test it with simulation\n",
        "#We are interested in how many draw til we get to 9oz, aka the lenght of 10oz array that gets cut off when we get to 9oz\n",
        "def randomNumJust10(n):\n",
        "  return sum([random.uniform(0, 1) > 0.1 for _ in range(n)  ])\n",
        "\n",
        "def numDraw(N):\n",
        "  N = 100\n",
        "  Ndraws = [randomNumJust10(10) for _ in range(N)]\n",
        "\n",
        "  print(\"The number of draw each time we get 9oz for \",N,\" times: \\n\", Ndraws)\n",
        "  print(\"Avg of The number of draw each time we get 9oz for \",N,\" times: \\n\", sum(Ndraws)/N)\n",
        "\n",
        "numDraw(50)\n",
        "numDraw(100)\n",
        "numDraw(1000)\n"
      ],
      "metadata": {
        "colab": {
          "base_uri": "https://localhost:8080/"
        },
        "id": "L-EAazVTSW_Y",
        "outputId": "fc1fc165-40ab-4f0a-b0c6-61b429441a19"
      },
      "execution_count": 9,
      "outputs": [
        {
          "output_type": "stream",
          "name": "stdout",
          "text": [
            "The number of draw each time we get 9oz for  100  times: \n",
            " [9, 9, 9, 9, 10, 9, 8, 10, 7, 9, 7, 9, 8, 10, 9, 9, 9, 9, 8, 10, 8, 10, 10, 9, 10, 9, 8, 9, 6, 10, 8, 9, 10, 9, 9, 10, 9, 9, 9, 9, 10, 9, 10, 6, 9, 9, 10, 10, 10, 9, 8, 10, 9, 10, 10, 10, 10, 8, 9, 7, 9, 9, 7, 9, 9, 10, 7, 8, 10, 9, 10, 10, 10, 10, 7, 8, 10, 10, 9, 9, 8, 10, 7, 10, 10, 9, 10, 9, 8, 10, 10, 10, 9, 10, 9, 8, 10, 10, 10, 10]\n",
            "Avg of The number of draw each time we get 9oz for  100  times: \n",
            " 9.07\n",
            "The number of draw each time we get 9oz for  100  times: \n",
            " [9, 9, 10, 9, 9, 10, 10, 10, 9, 10, 6, 8, 9, 9, 10, 9, 8, 9, 10, 8, 10, 10, 9, 9, 9, 7, 9, 9, 9, 8, 8, 7, 9, 9, 9, 9, 8, 10, 10, 8, 10, 10, 9, 8, 8, 9, 9, 9, 8, 9, 8, 10, 10, 9, 10, 8, 10, 10, 9, 10, 10, 8, 8, 10, 10, 10, 10, 10, 9, 8, 10, 10, 8, 8, 9, 9, 10, 10, 9, 10, 9, 8, 6, 9, 10, 10, 8, 10, 9, 9, 8, 10, 9, 8, 8, 9, 9, 8, 10, 8]\n",
            "Avg of The number of draw each time we get 9oz for  100  times: \n",
            " 9.01\n",
            "The number of draw each time we get 9oz for  100  times: \n",
            " [7, 9, 10, 10, 8, 6, 9, 10, 9, 7, 9, 9, 8, 8, 8, 9, 7, 9, 8, 8, 9, 9, 10, 8, 9, 7, 9, 9, 7, 9, 9, 9, 8, 10, 10, 10, 10, 10, 8, 8, 9, 10, 9, 9, 10, 9, 9, 8, 9, 9, 9, 10, 10, 8, 9, 8, 8, 10, 9, 9, 7, 10, 9, 10, 10, 10, 10, 10, 9, 9, 9, 10, 9, 9, 9, 10, 10, 8, 8, 10, 9, 10, 10, 9, 9, 8, 10, 10, 10, 10, 10, 10, 10, 9, 10, 7, 9, 10, 9, 10]\n",
            "Avg of The number of draw each time we get 9oz for  100  times: \n",
            " 9.02\n"
          ]
        }
      ]
    },
    {
      "cell_type": "markdown",
      "source": [
        "It is a bit far off. But expectation based on the formular is soly based on probably given, there is not guranteed that we would get 1 9oz bottle for every 10 bottle we draw, nor occurence of picking 9oz in early draw would. bring down the average"
      ],
      "metadata": {
        "id": "zPjTuzcAZjiL"
      }
    },
    {
      "cell_type": "markdown",
      "source": [
        "#Any mod?"
      ],
      "metadata": {
        "id": "cGbgDXS2af17"
      }
    },
    {
      "cell_type": "code",
      "source": [
        "bottles = [10]*9\n",
        "bottles.append(9)\n",
        "\n",
        "print(bottles)\n",
        "print(\"This new mod is shuffling the bottles array everytime so that the 9oz bottle is at different index each time\")\n",
        "random.shuffle(bottles)\n",
        "print(\"Bottles after shuffled: \", bottles)\n",
        "\n",
        "#Expected pull\n",
        "def pullMod(n):\n",
        "  sum = 0\n",
        "  for _ in range(n):\n",
        "    random.shuffle(bottles)\n",
        "    sum += bottles.index(9)\n",
        "  return sum/n\n",
        "\n",
        "print(\"\\nThe expeced pull now is : \", pullMod(1000))\n",
        "\n",
        "\n",
        "print(\"The expected weight will be average of the array bottles as there will always be the same total weight each case, which is \", (10*9 + 9)/10)\n",
        "\n"
      ],
      "metadata": {
        "id": "080fJwN7z5Mp",
        "colab": {
          "base_uri": "https://localhost:8080/"
        },
        "outputId": "33a61398-a852-490f-ab0b-1a7fc1d7f704"
      },
      "execution_count": 17,
      "outputs": [
        {
          "output_type": "stream",
          "name": "stdout",
          "text": [
            "[10, 10, 10, 10, 10, 10, 10, 10, 10, 9]\n",
            "This new mod is shuffling the bottles array everytime so that the 9oz bottle is at different index each time\n",
            "Bottles after shuffled:  [10, 10, 10, 9, 10, 10, 10, 10, 10, 10]\n",
            "\n",
            "The expeced pull now is :  4.498\n",
            "The expected weight will be average of the array bottles as there will always be the same total weight each case, which is  9.9\n"
          ]
        }
      ]
    },
    {
      "cell_type": "code",
      "source": [],
      "metadata": {
        "id": "pM9l_R8YQG92"
      },
      "execution_count": null,
      "outputs": []
    }
  ]
}