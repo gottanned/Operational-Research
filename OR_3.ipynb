{
  "nbformat": 4,
  "nbformat_minor": 0,
  "metadata": {
    "colab": {
      "provenance": []
    },
    "kernelspec": {
      "name": "python3",
      "display_name": "Python 3"
    },
    "language_info": {
      "name": "python"
    }
  },
  "cells": [
    {
      "cell_type": "markdown",
      "source": [
        "#Linear Programming"
      ],
      "metadata": {
        "id": "JUDOO2L_yBnC"
      }
    },
    {
      "cell_type": "markdown",
      "source": [
        "#Problem 1\n",
        " Given the system of inequalities below, determine the shape of the feasible region and find the vertices of the feasible region. Give the shape as \"triangle\", \"quadrilateral\", or \"unbounded\". Report your vertices starting with the one which has the smallest 𝑥\n",
        "-value. If more than one vertex has the same, smallest 𝑥\n",
        "-value, start with the one that has the smallest 𝑦\n",
        "-value. Proceed clockwise from the first vertex. Leave any unnecessary answer spaces blank.\n",
        "<br>The objective function is: $'P=3x+y2'$\n",
        "<br>$x+y\\geq5$\n",
        "<br>$9x+y\\geq8$\n",
        "<br>$x\\geq0$\n",
        "<br>$y\\geq0$"
      ],
      "metadata": {
        "id": "G1igVMo-OQ6O"
      }
    },
    {
      "cell_type": "markdown",
      "source": [
        "**Answer**\n",
        "Let's start off with graphing the system first."
      ],
      "metadata": {
        "id": "djWKc50iq9Ik"
      }
    },
    {
      "cell_type": "code",
      "source": [
        "import matplotlib.pyplot as plt\n",
        "import numpy as np\n",
        "d = np.linspace(-2,10,300)\n",
        "x,y = np.meshgrid(d,d)\n",
        "plt.imshow( ((y>=0) & (x>=0) & (y>=5-x) & (y>=8-9*x).astype(int)) ,\n",
        "                extent=(x.min(),x.max(),y.min(),y.max()),origin=\"lower\", cmap=\"Greys\", alpha = 0.5);\n",
        "\n",
        "\n",
        "x = np.linspace(-2, 10, 300)\n",
        "y1 = (x*0) + 0\n",
        "y2 = (5-x)\n",
        "y3 = (8-9*x)\n",
        "\n",
        "# Make plot\n",
        "plt.plot(x, y1)\n",
        "plt.plot(x, y2, label=r'$x+y\\geq5$')\n",
        "plt.plot(x, y3, label=r'$9x+y\\geq8$')\n",
        "plt.xlim(0,10)\n",
        "plt.ylim(0,10)\n",
        "plt.legend(bbox_to_anchor=(1.05, 1), loc=2, borderaxespad=0.)\n",
        "plt.xlabel(r'$x$')\n",
        "plt.ylabel(r'$y$')\n",
        "\n",
        "plt.show()"
      ],
      "metadata": {
        "colab": {
          "base_uri": "https://localhost:8080/",
          "height": 455
        },
        "id": "RKgKRpoUrNGM",
        "outputId": "f3608994-b091-48bd-bf23-32fcd9bf988b"
      },
      "execution_count": null,
      "outputs": [
        {
          "output_type": "display_data",
          "data": {
            "text/plain": [
              "<Figure size 640x480 with 1 Axes>"
            ],
            "image/png": "[encoded data removed]"
          },
          "metadata": {}
        }
      ]
    },
    {
      "cell_type": "markdown",
      "source": [
        "I'll use SciPy package linprog to make my life easier. Though it only handles minimizations, we can have it minimize the negative of what we try to maximinze :)"
      ],
      "metadata": {
        "id": "1Wpx3ftpsTfP"
      }
    },
    {
      "cell_type": "code",
      "source": [
        "from scipy.optimize import linprog\n",
        "obj = [-3,-2]\n",
        "\n",
        "lhs_ineq = [[1, 1],\n",
        "            [9,1]]\n",
        "rhs_ineq = [[5],\n",
        "           [8]]\n",
        "opt = linprog(c=obj, A_ub=lhs_ineq, b_ub=rhs_ineq, method=\"revised simplex\")\n",
        "\n",
        "opt"
      ],
      "metadata": {
        "colab": {
          "base_uri": "https://localhost:8080/"
        },
        "id": "i6X8cc53sJRV",
        "outputId": "0e48ae0e-8d58-4438-e96c-37f101317901"
      },
      "execution_count": null,
      "outputs": [
        {
          "output_type": "stream",
          "name": "stderr",
          "text": [
            "<ipython-input-4-a55affca6979>:8: DeprecationWarning: `method='revised simplex'` is deprecated and will be removed in SciPy 1.11.0. Please use one of the HiGHS solvers (e.g. `method='highs'`) in new code.\n",
            "  opt = linprog(c=obj, A_ub=lhs_ineq, b_ub=rhs_ineq, method=\"revised simplex\")\n"
          ]
        },
        {
          "output_type": "execute_result",
          "data": {
            "text/plain": [
              " message: Optimization terminated successfully.\n",
              " success: True\n",
              "  status: 0\n",
              "     fun: -10.375\n",
              "       x: [ 3.750e-01  4.625e+00]\n",
              "     nit: 2"
            ]
          },
          "metadata": {},
          "execution_count": 4
        }
      ]
    },
    {
      "cell_type": "code",
      "source": [
        "#Find all the corner points\n",
        "\n",
        "A = np.array([[1,1], [9,1], [1,0], [0,1]])\n",
        "b = np.array([[5], [8], [0], [0]])\n",
        "\n",
        "print(np.linalg.solve(A[0:2,:],b[0:2]))\n",
        "print(np.linalg.solve(A[1:3,:],b[1:3]))\n",
        "print(np.linalg.solve([A[0,:], A[3,:]],[b[0], b[3]]))\n",
        "\n"
      ],
      "metadata": {
        "colab": {
          "base_uri": "https://localhost:8080/"
        },
        "id": "kzC7VbPZuxtw",
        "outputId": "9de8f374-eefc-4bcd-8d44-7a64b50f6ca5"
      },
      "execution_count": null,
      "outputs": [
        {
          "output_type": "stream",
          "name": "stdout",
          "text": [
            "[[0.375]\n",
            " [4.625]]\n",
            "[[0.]\n",
            " [8.]]\n",
            "[[5.]\n",
            " [0.]]\n"
          ]
        }
      ]
    },
    {
      "cell_type": "markdown",
      "source": [
        "Looks pretty good. For slack variable, I'll build a seperate function and perform later for both question."
      ],
      "metadata": {
        "id": "ZgEta5efst2e"
      }
    },
    {
      "cell_type": "markdown",
      "source": [
        "#Problem 2\n",
        "A company manufactures two models of snowboards, standard and deluxe. Each deluxe model requires 28 hours to produce, and 84 units of material. Each standard model requires 14 hours to produce and 70 units of material. The company has 924 production hours available and 3388 units of material in stock. The deluxe model sells for $\\$252$ and the standard model sells for $1\\$80$.\n"
      ],
      "metadata": {
        "id": "l5GIa8JZyHlD"
      }
    },
    {
      "cell_type": "markdown",
      "source": [
        "**Answer**<br>\n",
        "Firsly, let analyze the question.\n",
        "There are two components, standard and deluxe models. Let's name them $x_1$ and $x_2$ accordingly. What we try to maximize here is the revenue, which consists the sale of standard models which go for $\\$252$, and deluxe models which go for $\\$180$. Therefore we have:\n",
        "<br>$P=252x_1+180x_2$<br>\n",
        "For producing hours, standard models take $28$ hours and deluxe models take $14$, and it cannot exceed $924$ hours. Therefore, we have our contraint:\n",
        "<br>$28x_1+14x_2\\leq924$<br>\n",
        "For units of material, standard models take $84$ units and deluxe models take $70$ units, and it cannot exceed $3388$ units. Therefore, we have our contraint:\n",
        "<br>$84x_1+70x_2\\leq3388$<br>\n",
        "Since we are talking about hours and units of material, both $x_1$ and $x_2$ cannot be negative.\n",
        "Finally, we have:\n",
        "<br>$P=252x_1+180x_2$\n",
        "<br>$28x_1+14x_2\\leq924$\n",
        "<br>$84x_1+70x_2\\leq3388$\n",
        "<br>$x_1\\geq0$\n",
        "<br>$x_2\\geq0$\n",
        "<br><br>\n",
        "**Let's actually graph them first before we find corner points**"
      ],
      "metadata": {
        "id": "4MqcHtYiy5Bx"
      }
    },
    {
      "cell_type": "code",
      "source": [
        "import matplotlib.pyplot as plt\n",
        "d = np.linspace(-2,60,300)\n",
        "x,y = np.meshgrid(d,d)\n",
        "plt.imshow( ((y>=0) & (x>=0) & (14*y<=924-28*x) & (70*y<=-84*x+3388).astype(int)) ,\n",
        "                extent=(x.min(),x.max(),y.min(),y.max()),origin=\"lower\", cmap=\"Greys\", alpha = 0.5);\n",
        "\n",
        "\n",
        "x = np.linspace(-2, 60, 300)\n",
        "y1 = (x*0) + 0\n",
        "y2 = (924-28*x)/14.00\n",
        "y3 = (-84*x+3388)/70.00\n",
        "\n",
        "# Make plot\n",
        "plt.plot(x, y1)\n",
        "plt.plot(x, y2, label=r'$28x_1+14x_2\\leq924$')\n",
        "plt.plot(x, y3, label=r'$84x_1+70x_2\\leq3388$')\n",
        "plt.xlim(0,60)\n",
        "plt.ylim(0,60)\n",
        "plt.legend(bbox_to_anchor=(1.05, 1), loc=2, borderaxespad=0.)\n",
        "plt.xlabel(r'$x$')\n",
        "plt.ylabel(r'$y$')\n",
        "plt.show()"
      ],
      "metadata": {
        "colab": {
          "base_uri": "https://localhost:8080/",
          "height": 455
        },
        "id": "dltukXSn6NDs",
        "outputId": "3fffadcb-1803-4ff6-b092-8b299d52bbc5"
      },
      "execution_count": null,
      "outputs": [
        {
          "output_type": "display_data",
          "data": {
            "text/plain": [
              "<Figure size 640x480 with 1 Axes>"
            ],
            "image/png": "[encoded data removed]"
          },
          "metadata": {}
        }
      ]
    },
    {
      "cell_type": "markdown",
      "source": [
        "Now let's actually find the corner points."
      ],
      "metadata": {
        "id": "xs1xZp23Guzt"
      }
    },
    {
      "cell_type": "code",
      "source": [
        "from scipy.optimize import linprog\n",
        "obj = [-252,-180]\n",
        "\n",
        "lhs_ineq = [[28, 14],\n",
        "            [84,70]]\n",
        "rhs_ineq = [[924],\n",
        "           [3388]]\n",
        "opt = linprog(c=obj, A_ub=lhs_ineq, b_ub=rhs_ineq, method=\"revised simplex\")\n",
        "\n",
        "opt\n",
        "\n"
      ],
      "metadata": {
        "colab": {
          "base_uri": "https://localhost:8080/"
        },
        "id": "24PeL2UkHYCC",
        "outputId": "50ed3f8d-a7d4-4df4-db69-5b62606b5435"
      },
      "execution_count": null,
      "outputs": [
        {
          "output_type": "stream",
          "name": "stderr",
          "text": [
            "<ipython-input-190-ac18771f2207>:8: DeprecationWarning: `method='revised simplex'` is deprecated and will be removed in SciPy 1.11.0. Please use one of the HiGHS solvers (e.g. `method='highs'`) in new code.\n",
            "  opt = linprog(c=obj, A_ub=lhs_ineq, b_ub=rhs_ineq, method=\"revised simplex\")\n"
          ]
        },
        {
          "output_type": "execute_result",
          "data": {
            "text/plain": [
              " message: Optimization terminated successfully.\n",
              " success: True\n",
              "  status: 0\n",
              "     fun: -9504.0\n",
              "       x: [ 2.200e+01  2.200e+01]\n",
              "     nit: 2"
            ]
          },
          "metadata": {},
          "execution_count": 190
        }
      ]
    },
    {
      "cell_type": "code",
      "source": [
        "#Find all the corner points\n",
        "\n",
        "A = np.array([[28,14], [84,70], [1,0], [0,1]])\n",
        "b = np.array([[924], [3388], [0], [0]])\n",
        "\n",
        "print(np.linalg.solve(A[0:2,:],b[0:2]))\n",
        "print(np.linalg.solve(A[1:3,:],b[1:3]))\n",
        "print(np.linalg.solve([A[0,:], A[3,:]],[b[0], b[3]]))"
      ],
      "metadata": {
        "colab": {
          "base_uri": "https://localhost:8080/"
        },
        "id": "b0RI1yxoyFNy",
        "outputId": "2d7cdb7b-2864-4119-9ba8-5a255c0a471f"
      },
      "execution_count": null,
      "outputs": [
        {
          "output_type": "stream",
          "name": "stdout",
          "text": [
            "[[22.]\n",
            " [22.]]\n",
            "[[ 0. ]\n",
            " [48.4]]\n",
            "[[33.]\n",
            " [ 0.]]\n"
          ]
        }
      ]
    },
    {
      "cell_type": "markdown",
      "source": [
        "As we can see that in the object, x is the corner point, which matches what is on the graph. Next we will introduce slack var and build the whole system from the ground up, which is great because we can test both question."
      ],
      "metadata": {
        "id": "zDyJVDOXKTC4"
      }
    },
    {
      "cell_type": "markdown",
      "source": [
        "#With Slack Variable Problem 2"
      ],
      "metadata": {
        "id": "xgbY0HZEKovB"
      }
    },
    {
      "cell_type": "code",
      "source": [
        "import numpy as np\n",
        "np.set_printoptions(suppress=True,precision=3)\n",
        "\n",
        "A =np.array([[28,14,1,0,0,924],\n",
        "             [84,70,0,1,0,3388],\n",
        "             [-252,-180,0,0,1,0]], dtype = float)\n",
        "\n",
        "def changingLeading(matrix, targetRow, pivotRow, pivotCol):\n",
        "  pivotValue = matrix[targetRow, pivotCol]\n",
        "  for i in range(len(matrix[targetRow,:])):\n",
        "    matrix[targetRow,i] = matrix[pivotRow, i]*(-pivotValue) + matrix[targetRow,i]\n",
        "\n",
        "def rowOperation(matrix):\n",
        "  #pivotRow = A[-1,:].where(x==min(A[-1,:]))[0][0]\n",
        "  #finding pivot row and cols\n",
        "  pivotCol = np.where(matrix[-1,:]==(min(matrix[-1,:])))[0][0]\n",
        "  pivotRow = 0 if matrix[0,-1]/matrix[0,pivotCol] < matrix[1,-1]/matrix[1,pivotCol] else 1\n",
        "\n",
        "  #perform row operation to make pivot row value 1\n",
        "  matrix[pivotRow,:] = matrix[pivotRow,:]/matrix[pivotRow,pivotCol]\n",
        "\n",
        "  #perform row operation to make non-pivot row value 0\n",
        "  changingLeading(matrix, -1, pivotRow, pivotCol)\n",
        "  changingLeading(matrix, abs(pivotRow-1), pivotRow, pivotCol)\n",
        "\n",
        "def LP(matrix):\n",
        "  while sum(number < 0 for number in matrix[-1,:]) > 0:\n",
        "    rowOperation(matrix)\n",
        "\n",
        "LP(A)\n",
        "A\n"
      ],
      "metadata": {
        "colab": {
          "base_uri": "https://localhost:8080/"
        },
        "id": "L-e74u4rgOd_",
        "outputId": "313e7791-0c79-4a9a-f6c6-05439517a6e3"
      },
      "execution_count": null,
      "outputs": [
        {
          "output_type": "execute_result",
          "data": {
            "text/plain": [
              "array([[   1.   ,    0.   ,    0.089,   -0.018,    0.   ,   22.   ],\n",
              "       [   0.   ,    1.   ,   -0.107,    0.036,    0.   ,   22.   ],\n",
              "       [   0.   ,    0.   ,    3.214,    1.929,    1.   , 9504.   ]])"
            ]
          },
          "metadata": {},
          "execution_count": 224
        }
      ]
    },
    {
      "cell_type": "markdown",
      "source": [
        "#With Slack Variable Problem 1"
      ],
      "metadata": {
        "id": "OJry3lowKxgu"
      }
    },
    {
      "cell_type": "code",
      "source": [
        "B = np.array([[1,1,1,0,0,5],\n",
        "             [9,1,0,1,0,8],\n",
        "             [-3,-2,0,0,1,0]], dtype = float)\n",
        "LP(B)\n",
        "B"
      ],
      "metadata": {
        "colab": {
          "base_uri": "https://localhost:8080/"
        },
        "id": "UgjB7Xm3K2Ba",
        "outputId": "24fa4708-51a9-4ad9-dd4a-837c92f6ce21"
      },
      "execution_count": null,
      "outputs": [
        {
          "output_type": "execute_result",
          "data": {
            "text/plain": [
              "array([[ 0.   ,  1.   ,  1.125, -0.125,  0.   ,  4.625],\n",
              "       [ 1.   ,  0.   , -0.125,  0.125,  0.   ,  0.375],\n",
              "       [ 0.   ,  0.   ,  1.875,  0.125,  1.   , 10.375]])"
            ]
          },
          "metadata": {},
          "execution_count": 225
        }
      ]
    },
    {
      "cell_type": "code",
      "source": [],
      "metadata": {
        "id": "YOo3FoAJLuuK"
      },
      "execution_count": null,
      "outputs": []
    }
  ]
}