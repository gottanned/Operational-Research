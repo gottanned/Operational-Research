{
  "nbformat": 4,
  "nbformat_minor": 0,
  "metadata": {
    "colab": {
      "provenance": []
    },
    "kernelspec": {
      "name": "python3",
      "display_name": "Python 3"
    },
    "language_info": {
      "name": "python"
    }
  },
  "cells": [
    {
      "cell_type": "markdown",
      "source": [
        "# Linear Regression"
      ],
      "metadata": {
        "id": "_-YnltVSp3i1"
      }
    },
    {
      "cell_type": "code",
      "execution_count": 1,
      "metadata": {
        "id": "tXCxdIW1NOxY"
      },
      "outputs": [],
      "source": [
        "import pandas as pa\n",
        "import numpy as np\n",
        "import matplotlib.pyplot as plt\n",
        "from scipy import stats\n",
        "from sklearn import linear_model\n",
        "\n",
        "\n"
      ]
    },
    {
      "cell_type": "code",
      "source": [
        "hockey = pa.read_csv('https://raw.githubusercontent.com/nurfnick/Data_Sets_For_Stats/master/CuratedDataSets/hockey.csv')"
      ],
      "metadata": {
        "id": "Ul9u_LHPNzi6"
      },
      "execution_count": 2,
      "outputs": []
    },
    {
      "cell_type": "code",
      "source": [
        "x = np.array(hockey[['G', 'A']])\n",
        "y = np.array(hockey.PTS)"
      ],
      "metadata": {
        "id": "RPUmz7XARwrm"
      },
      "execution_count": 3,
      "outputs": []
    },
    {
      "cell_type": "code",
      "source": [
        "multi = linear_model.LinearRegression()\n",
        "multi.fit(x, y)\n",
        "\n",
        "multiIntercept = multi.intercept_\n",
        "multiCoef = multi.coef_\n",
        "\n",
        "print(\"Intercept: \", multiIntercept)\n",
        "print(\"Coef: \")\n",
        "list(zip(['G', 'A'], multiCoef))"
      ],
      "metadata": {
        "colab": {
          "base_uri": "https://localhost:8080/"
        },
        "id": "B8Nuuc-EXCjt",
        "outputId": "8f01a62b-973f-47a9-eb51-576264808657"
      },
      "execution_count": 4,
      "outputs": [
        {
          "output_type": "stream",
          "name": "stdout",
          "text": [
            "Intercept:  7.105427357601002e-15\n",
            "Coef: \n"
          ]
        },
        {
          "output_type": "execute_result",
          "data": {
            "text/plain": [
              "[('G', 0.9999999999999991), ('A', 1.0)]"
            ]
          },
          "metadata": {},
          "execution_count": 4
        }
      ]
    },
    {
      "cell_type": "code",
      "source": [
        "simple = linear_model.LinearRegression()\n",
        "simple.fit(hockey[['G']], hockey['PTS'])\n",
        "\n",
        "simpleIntercept = simple.intercept_\n",
        "simpleCoef = simple.coef_\n",
        "\n",
        "print(\"Intercept: \", simpleIntercept)\n",
        "print(\"Coef: \", simpleCoef)"
      ],
      "metadata": {
        "colab": {
          "base_uri": "https://localhost:8080/"
        },
        "id": "hbOEhSQEYG83",
        "outputId": "0a60f68c-3f9b-4c17-c44a-a57ed31df684"
      },
      "execution_count": 5,
      "outputs": [
        {
          "output_type": "stream",
          "name": "stdout",
          "text": [
            "Intercept:  3.7372431596039206\n",
            "Coef:  [2.17678045]\n"
          ]
        }
      ]
    },
    {
      "cell_type": "markdown",
      "source": [
        "The intercept of the Simple Linear Regression (SLR) is much higher than the intercept of the Multiple Linear Regression (MLR), which mean that at x=0, or x1=0 and x2=0, the predict value of SLR will be higher than MLR, though we must take into consideration of the fact that MLR is influence by 2 variable rather than 1. The slope is also steeper for SLR than the slope of MLR.\n",
        "Now, let's make a prediction to see how good of a fit both models are. Let's take an example of A=42 and G=6"
      ],
      "metadata": {
        "id": "78A9LF1wd553"
      }
    },
    {
      "cell_type": "code",
      "source": [
        "from sklearn import metrics\n",
        "\n",
        "testSimple = np.array([[6]])\n",
        "testMulti = np.array([[6, 42]], dtype='int32')\n",
        "\n",
        "simplePredict = simple.predict(testSimple)\n",
        "print(simplePredict)\n",
        "multiPredict = multi.predict(testMulti)\n",
        "print(multiPredict)\n",
        "\n",
        "print('R squared for Multi: {:.2f}'.format(multi.score(x,y)*100))\n",
        "print('R squared for Simple: {:.2f}'.format(simple.score(hockey[['G']], hockey['PTS'])*100))\n",
        "\n"
      ],
      "metadata": {
        "colab": {
          "base_uri": "https://localhost:8080/"
        },
        "id": "pXWlTAE9gjn5",
        "outputId": "b5ba849e-7632-4883-f0c0-01178a861863"
      },
      "execution_count": 6,
      "outputs": [
        {
          "output_type": "stream",
          "name": "stdout",
          "text": [
            "[16.79792589]\n",
            "[48.]\n",
            "R squared for Multi: 100.00\n",
            "R squared for Simple: 84.62\n"
          ]
        },
        {
          "output_type": "stream",
          "name": "stderr",
          "text": [
            "/usr/local/lib/python3.10/dist-packages/sklearn/base.py:439: UserWarning: X does not have valid feature names, but LinearRegression was fitted with feature names\n",
            "  warnings.warn(\n"
          ]
        }
      ]
    },
    {
      "cell_type": "markdown",
      "source": [
        "Seem likes R square for MLR is like perfect. It means 100% of the data fit under regression model, while it is 84.52% for SLR.\n",
        "I think I have gotten it wrong somewhere."
      ],
      "metadata": {
        "id": "Ancs45qPpjn_"
      }
    },
    {
      "cell_type": "markdown",
      "source": [
        "#Logistic Regression"
      ],
      "metadata": {
        "id": "60ZUxrDJp2RB"
      }
    },
    {
      "cell_type": "code",
      "source": [
        "df = pa.read_csv('https://raw.githubusercontent.com/nurfnick/Data_Sets_For_Stats/master/CuratedDataSets/Avengers')\n",
        "df.head()"
      ],
      "metadata": {
        "colab": {
          "base_uri": "https://localhost:8080/",
          "height": 794
        },
        "id": "QgZZonk6qDcP",
        "outputId": "2fee4f7f-4082-4ba1-cb47-8b99fb2f8c73"
      },
      "execution_count": 8,
      "outputs": [
        {
          "output_type": "execute_result",
          "data": {
            "text/plain": [
              "                                                 URL  \\\n",
              "0      http://marvel.wikia.com/Henry_Pym_(Earth-616)   \n",
              "1  http://marvel.wikia.com/Janet_van_Dyne_(Earth-...   \n",
              "2  http://marvel.wikia.com/Anthony_Stark_(Earth-616)   \n",
              "3  http://marvel.wikia.com/Robert_Bruce_Banner_(E...   \n",
              "4   http://marvel.wikia.com/Thor_Odinson_(Earth-616)   \n",
              "\n",
              "                    Name/Alias  Appearances Current?  Gender  \\\n",
              "0    Henry Jonathan \"Hank\" Pym         1269      YES    MALE   \n",
              "1               Janet van Dyne         1165      YES  FEMALE   \n",
              "2  Anthony Edward \"Tony\" Stark         3068      YES    MALE   \n",
              "3          Robert Bruce Banner         2089      YES    MALE   \n",
              "4                 Thor Odinson         2402      YES    MALE   \n",
              "\n",
              "  Probationary Introl Full/Reserve Avengers Intro  Year  Years since joining  \\\n",
              "0                 NaN                      Sep-63  1963                   52   \n",
              "1                 NaN                      Sep-63  1963                   52   \n",
              "2                 NaN                      Sep-63  1963                   52   \n",
              "3                 NaN                      Sep-63  1963                   52   \n",
              "4                 NaN                      Sep-63  1963                   52   \n",
              "\n",
              "  Honorary  ... Return1 Death2 Return2 Death3 Return3 Death4 Return4 Death5  \\\n",
              "0     Full  ...      NO    NaN     NaN    NaN     NaN    NaN     NaN    NaN   \n",
              "1     Full  ...     YES    NaN     NaN    NaN     NaN    NaN     NaN    NaN   \n",
              "2     Full  ...     YES    NaN     NaN    NaN     NaN    NaN     NaN    NaN   \n",
              "3     Full  ...     YES    NaN     NaN    NaN     NaN    NaN     NaN    NaN   \n",
              "4     Full  ...     YES    YES      NO    NaN     NaN    NaN     NaN    NaN   \n",
              "\n",
              "  Return5                                              Notes  \n",
              "0     NaN  Merged with Ultron in Rage of Ultron Vol. 1. A...  \n",
              "1     NaN  Dies in Secret Invasion V1:I8. Actually was se...  \n",
              "2     NaN  Death: \"Later while under the influence of Imm...  \n",
              "3     NaN  Dies in Ghosts of the Future arc. However \"he ...  \n",
              "4     NaN  Dies in Fear Itself brought back because that'...  \n",
              "\n",
              "[5 rows x 21 columns]"
            ],
            "text/html": [
              "\n",
              "  <div id=\"df-fb795acb-ca47-41c9-aaa2-c5f62f1f617c\" class=\"colab-df-container\">\n",
              "    <div>\n",
              "<style scoped>\n",
              "    .dataframe tbody tr th:only-of-type {\n",
              "        vertical-align: middle;\n",
              "    }\n",
              "\n",
              "    .dataframe tbody tr th {\n",
              "        vertical-align: top;\n",
              "    }\n",
              "\n",
              "    .dataframe thead th {\n",
              "        text-align: right;\n",
              "    }\n",
              "</style>\n",
              "<table border=\"1\" class=\"dataframe\">\n",
              "  <thead>\n",
              "    <tr style=\"text-align: right;\">\n",
              "      <th></th>\n",
              "      <th>URL</th>\n",
              "      <th>Name/Alias</th>\n",
              "      <th>Appearances</th>\n",
              "      <th>Current?</th>\n",
              "      <th>Gender</th>\n",
              "      <th>Probationary Introl</th>\n",
              "      <th>Full/Reserve Avengers Intro</th>\n",
              "      <th>Year</th>\n",
              "      <th>Years since joining</th>\n",
              "      <th>Honorary</th>\n",
              "      <th>...</th>\n",
              "      <th>Return1</th>\n",
              "      <th>Death2</th>\n",
              "      <th>Return2</th>\n",
              "      <th>Death3</th>\n",
              "      <th>Return3</th>\n",
              "      <th>Death4</th>\n",
              "      <th>Return4</th>\n",
              "      <th>Death5</th>\n",
              "      <th>Return5</th>\n",
              "      <th>Notes</th>\n",
              "    </tr>\n",
              "  </thead>\n",
              "  <tbody>\n",
              "    <tr>\n",
              "      <th>0</th>\n",
              "      <td>http://marvel.wikia.com/Henry_Pym_(Earth-616)</td>\n",
              "      <td>Henry Jonathan \"Hank\" Pym</td>\n",
              "      <td>1269</td>\n",
              "      <td>YES</td>\n",
              "      <td>MALE</td>\n",
              "      <td>NaN</td>\n",
              "      <td>Sep-63</td>\n",
              "      <td>1963</td>\n",
              "      <td>52</td>\n",
              "      <td>Full</td>\n",
              "      <td>...</td>\n",
              "      <td>NO</td>\n",
              "      <td>NaN</td>\n",
              "      <td>NaN</td>\n",
              "      <td>NaN</td>\n",
              "      <td>NaN</td>\n",
              "      <td>NaN</td>\n",
              "      <td>NaN</td>\n",
              "      <td>NaN</td>\n",
              "      <td>NaN</td>\n",
              "      <td>Merged with Ultron in Rage of Ultron Vol. 1. A...</td>\n",
              "    </tr>\n",
              "    <tr>\n",
              "      <th>1</th>\n",
              "      <td>http://marvel.wikia.com/Janet_van_Dyne_(Earth-...</td>\n",
              "      <td>Janet van Dyne</td>\n",
              "      <td>1165</td>\n",
              "      <td>YES</td>\n",
              "      <td>FEMALE</td>\n",
              "      <td>NaN</td>\n",
              "      <td>Sep-63</td>\n",
              "      <td>1963</td>\n",
              "      <td>52</td>\n",
              "      <td>Full</td>\n",
              "      <td>...</td>\n",
              "      <td>YES</td>\n",
              "      <td>NaN</td>\n",
              "      <td>NaN</td>\n",
              "      <td>NaN</td>\n",
              "      <td>NaN</td>\n",
              "      <td>NaN</td>\n",
              "      <td>NaN</td>\n",
              "      <td>NaN</td>\n",
              "      <td>NaN</td>\n",
              "      <td>Dies in Secret Invasion V1:I8. Actually was se...</td>\n",
              "    </tr>\n",
              "    <tr>\n",
              "      <th>2</th>\n",
              "      <td>http://marvel.wikia.com/Anthony_Stark_(Earth-616)</td>\n",
              "      <td>Anthony Edward \"Tony\" Stark</td>\n",
              "      <td>3068</td>\n",
              "      <td>YES</td>\n",
              "      <td>MALE</td>\n",
              "      <td>NaN</td>\n",
              "      <td>Sep-63</td>\n",
              "      <td>1963</td>\n",
              "      <td>52</td>\n",
              "      <td>Full</td>\n",
              "      <td>...</td>\n",
              "      <td>YES</td>\n",
              "      <td>NaN</td>\n",
              "      <td>NaN</td>\n",
              "      <td>NaN</td>\n",
              "      <td>NaN</td>\n",
              "      <td>NaN</td>\n",
              "      <td>NaN</td>\n",
              "      <td>NaN</td>\n",
              "      <td>NaN</td>\n",
              "      <td>Death: \"Later while under the influence of Imm...</td>\n",
              "    </tr>\n",
              "    <tr>\n",
              "      <th>3</th>\n",
              "      <td>http://marvel.wikia.com/Robert_Bruce_Banner_(E...</td>\n",
              "      <td>Robert Bruce Banner</td>\n",
              "      <td>2089</td>\n",
              "      <td>YES</td>\n",
              "      <td>MALE</td>\n",
              "      <td>NaN</td>\n",
              "      <td>Sep-63</td>\n",
              "      <td>1963</td>\n",
              "      <td>52</td>\n",
              "      <td>Full</td>\n",
              "      <td>...</td>\n",
              "      <td>YES</td>\n",
              "      <td>NaN</td>\n",
              "      <td>NaN</td>\n",
              "      <td>NaN</td>\n",
              "      <td>NaN</td>\n",
              "      <td>NaN</td>\n",
              "      <td>NaN</td>\n",
              "      <td>NaN</td>\n",
              "      <td>NaN</td>\n",
              "      <td>Dies in Ghosts of the Future arc. However \"he ...</td>\n",
              "    </tr>\n",
              "    <tr>\n",
              "      <th>4</th>\n",
              "      <td>http://marvel.wikia.com/Thor_Odinson_(Earth-616)</td>\n",
              "      <td>Thor Odinson</td>\n",
              "      <td>2402</td>\n",
              "      <td>YES</td>\n",
              "      <td>MALE</td>\n",
              "      <td>NaN</td>\n",
              "      <td>Sep-63</td>\n",
              "      <td>1963</td>\n",
              "      <td>52</td>\n",
              "      <td>Full</td>\n",
              "      <td>...</td>\n",
              "      <td>YES</td>\n",
              "      <td>YES</td>\n",
              "      <td>NO</td>\n",
              "      <td>NaN</td>\n",
              "      <td>NaN</td>\n",
              "      <td>NaN</td>\n",
              "      <td>NaN</td>\n",
              "      <td>NaN</td>\n",
              "      <td>NaN</td>\n",
              "      <td>Dies in Fear Itself brought back because that'...</td>\n",
              "    </tr>\n",
              "  </tbody>\n",
              "</table>\n",
              "<p>5 rows × 21 columns</p>\n",
              "</div>\n",
              "    <div class=\"colab-df-buttons\">\n",
              "\n",
              "  <div class=\"colab-df-container\">\n",
              "    <button class=\"colab-df-convert\" onclick=\"convertToInteractive('df-fb795acb-ca47-41c9-aaa2-c5f62f1f617c')\"\n",
              "            title=\"Convert this dataframe to an interactive table.\"\n",
              "            style=\"display:none;\">\n",
              "\n",
              "  <svg xmlns=\"http://www.w3.org/2000/svg\" height=\"24px\" viewBox=\"0 -960 960 960\">\n",
              "    <path d=\"M120-120v-720h720v720H120Zm60-500h600v-160H180v160Zm220 220h160v-160H400v160Zm0 220h160v-160H400v160ZM180-400h160v-160H180v160Zm440 0h160v-160H620v160ZM180-180h160v-160H180v160Zm440 0h160v-160H620v160Z\"/>\n",
              "  </svg>\n",
              "    </button>\n",
              "\n",
              "  <style>\n",
              "    .colab-df-container {\n",
              "      display:flex;\n",
              "      gap: 12px;\n",
              "    }\n",
              "\n",
              "    .colab-df-convert {\n",
              "      background-color: #E8F0FE;\n",
              "      border: none;\n",
              "      border-radius: 50%;\n",
              "      cursor: pointer;\n",
              "      display: none;\n",
              "      fill: #1967D2;\n",
              "      height: 32px;\n",
              "      padding: 0 0 0 0;\n",
              "      width: 32px;\n",
              "    }\n",
              "\n",
              "    .colab-df-convert:hover {\n",
              "      background-color: #E2EBFA;\n",
              "      box-shadow: 0px 1px 2px rgba(60, 64, 67, 0.3), 0px 1px 3px 1px rgba(60, 64, 67, 0.15);\n",
              "      fill: #174EA6;\n",
              "    }\n",
              "\n",
              "    .colab-df-buttons div {\n",
              "      margin-bottom: 4px;\n",
              "    }\n",
              "\n",
              "    [theme=dark] .colab-df-convert {\n",
              "      background-color: #3B4455;\n",
              "      fill: #D2E3FC;\n",
              "    }\n",
              "\n",
              "    [theme=dark] .colab-df-convert:hover {\n",
              "      background-color: #434B5C;\n",
              "      box-shadow: 0px 1px 3px 1px rgba(0, 0, 0, 0.15);\n",
              "      filter: drop-shadow(0px 1px 2px rgba(0, 0, 0, 0.3));\n",
              "      fill: #FFFFFF;\n",
              "    }\n",
              "  </style>\n",
              "\n",
              "    <script>\n",
              "      const buttonEl =\n",
              "        document.querySelector('#df-fb795acb-ca47-41c9-aaa2-c5f62f1f617c button.colab-df-convert');\n",
              "      buttonEl.style.display =\n",
              "        google.colab.kernel.accessAllowed ? 'block' : 'none';\n",
              "\n",
              "      async function convertToInteractive(key) {\n",
              "        const element = document.querySelector('#df-fb795acb-ca47-41c9-aaa2-c5f62f1f617c');\n",
              "        const dataTable =\n",
              "          await google.colab.kernel.invokeFunction('convertToInteractive',\n",
              "                                                    [key], {});\n",
              "        if (!dataTable) return;\n",
              "\n",
              "        const docLinkHtml = 'Like what you see? Visit the ' +\n",
              "          '<a target=\"_blank\" href=https://colab.research.google.com/notebooks/data_table.ipynb>data table notebook</a>'\n",
              "          + ' to learn more about interactive tables.';\n",
              "        element.innerHTML = '';\n",
              "        dataTable['output_type'] = 'display_data';\n",
              "        await google.colab.output.renderOutput(dataTable, element);\n",
              "        const docLink = document.createElement('div');\n",
              "        docLink.innerHTML = docLinkHtml;\n",
              "        element.appendChild(docLink);\n",
              "      }\n",
              "    </script>\n",
              "  </div>\n",
              "\n",
              "\n",
              "<div id=\"df-2a4a36ed-77d7-459b-ae45-7634c6299bde\">\n",
              "  <button class=\"colab-df-quickchart\" onclick=\"quickchart('df-2a4a36ed-77d7-459b-ae45-7634c6299bde')\"\n",
              "            title=\"Suggest charts.\"\n",
              "            style=\"display:none;\">\n",
              "\n",
              "<svg xmlns=\"http://www.w3.org/2000/svg\" height=\"24px\"viewBox=\"0 0 24 24\"\n",
              "     width=\"24px\">\n",
              "    <g>\n",
              "        <path d=\"M19 3H5c-1.1 0-2 .9-2 2v14c0 1.1.9 2 2 2h14c1.1 0 2-.9 2-2V5c0-1.1-.9-2-2-2zM9 17H7v-7h2v7zm4 0h-2V7h2v10zm4 0h-2v-4h2v4z\"/>\n",
              "    </g>\n",
              "</svg>\n",
              "  </button>\n",
              "\n",
              "<style>\n",
              "  .colab-df-quickchart {\n",
              "      --bg-color: #E8F0FE;\n",
              "      --fill-color: #1967D2;\n",
              "      --hover-bg-color: #E2EBFA;\n",
              "      --hover-fill-color: #174EA6;\n",
              "      --disabled-fill-color: #AAA;\n",
              "      --disabled-bg-color: #DDD;\n",
              "  }\n",
              "\n",
              "  [theme=dark] .colab-df-quickchart {\n",
              "      --bg-color: #3B4455;\n",
              "      --fill-color: #D2E3FC;\n",
              "      --hover-bg-color: #434B5C;\n",
              "      --hover-fill-color: #FFFFFF;\n",
              "      --disabled-bg-color: #3B4455;\n",
              "      --disabled-fill-color: #666;\n",
              "  }\n",
              "\n",
              "  .colab-df-quickchart {\n",
              "    background-color: var(--bg-color);\n",
              "    border: none;\n",
              "    border-radius: 50%;\n",
              "    cursor: pointer;\n",
              "    display: none;\n",
              "    fill: var(--fill-color);\n",
              "    height: 32px;\n",
              "    padding: 0;\n",
              "    width: 32px;\n",
              "  }\n",
              "\n",
              "  .colab-df-quickchart:hover {\n",
              "    background-color: var(--hover-bg-color);\n",
              "    box-shadow: 0 1px 2px rgba(60, 64, 67, 0.3), 0 1px 3px 1px rgba(60, 64, 67, 0.15);\n",
              "    fill: var(--button-hover-fill-color);\n",
              "  }\n",
              "\n",
              "  .colab-df-quickchart-complete:disabled,\n",
              "  .colab-df-quickchart-complete:disabled:hover {\n",
              "    background-color: var(--disabled-bg-color);\n",
              "    fill: var(--disabled-fill-color);\n",
              "    box-shadow: none;\n",
              "  }\n",
              "\n",
              "  .colab-df-spinner {\n",
              "    border: 2px solid var(--fill-color);\n",
              "    border-color: transparent;\n",
              "    border-bottom-color: var(--fill-color);\n",
              "    animation:\n",
              "      spin 1s steps(1) infinite;\n",
              "  }\n",
              "\n",
              "  @keyframes spin {\n",
              "    0% {\n",
              "      border-color: transparent;\n",
              "      border-bottom-color: var(--fill-color);\n",
              "      border-left-color: var(--fill-color);\n",
              "    }\n",
              "    20% {\n",
              "      border-color: transparent;\n",
              "      border-left-color: var(--fill-color);\n",
              "      border-top-color: var(--fill-color);\n",
              "    }\n",
              "    30% {\n",
              "      border-color: transparent;\n",
              "      border-left-color: var(--fill-color);\n",
              "      border-top-color: var(--fill-color);\n",
              "      border-right-color: var(--fill-color);\n",
              "    }\n",
              "    40% {\n",
              "      border-color: transparent;\n",
              "      border-right-color: var(--fill-color);\n",
              "      border-top-color: var(--fill-color);\n",
              "    }\n",
              "    60% {\n",
              "      border-color: transparent;\n",
              "      border-right-color: var(--fill-color);\n",
              "    }\n",
              "    80% {\n",
              "      border-color: transparent;\n",
              "      border-right-color: var(--fill-color);\n",
              "      border-bottom-color: var(--fill-color);\n",
              "    }\n",
              "    90% {\n",
              "      border-color: transparent;\n",
              "      border-bottom-color: var(--fill-color);\n",
              "    }\n",
              "  }\n",
              "</style>\n",
              "\n",
              "  <script>\n",
              "    async function quickchart(key) {\n",
              "      const quickchartButtonEl =\n",
              "        document.querySelector('#' + key + ' button');\n",
              "      quickchartButtonEl.disabled = true;  // To prevent multiple clicks.\n",
              "      quickchartButtonEl.classList.add('colab-df-spinner');\n",
              "      try {\n",
              "        const charts = await google.colab.kernel.invokeFunction(\n",
              "            'suggestCharts', [key], {});\n",
              "      } catch (error) {\n",
              "        console.error('Error during call to suggestCharts:', error);\n",
              "      }\n",
              "      quickchartButtonEl.classList.remove('colab-df-spinner');\n",
              "      quickchartButtonEl.classList.add('colab-df-quickchart-complete');\n",
              "    }\n",
              "    (() => {\n",
              "      let quickchartButtonEl =\n",
              "        document.querySelector('#df-2a4a36ed-77d7-459b-ae45-7634c6299bde button');\n",
              "      quickchartButtonEl.style.display =\n",
              "        google.colab.kernel.accessAllowed ? 'block' : 'none';\n",
              "    })();\n",
              "  </script>\n",
              "</div>\n",
              "    </div>\n",
              "  </div>\n"
            ]
          },
          "metadata": {},
          "execution_count": 8
        }
      ]
    },
    {
      "cell_type": "code",
      "source": [
        "y = np.array(df.Death1.eq('YES').mul(1))\n",
        "X = np.array(df.Appearances).reshape(-1, 1)\n",
        "\n",
        "\n",
        "logr = linear_model.LogisticRegression()\n",
        "logr.fit(X,y)\n",
        "\n",
        "predicted = logr.predict(np.array([1500]).reshape(-1,1))\n",
        "print(predicted)"
      ],
      "metadata": {
        "colab": {
          "base_uri": "https://localhost:8080/"
        },
        "id": "WNrLZGCir3M9",
        "outputId": "5586dd30-25d9-4abe-ed8f-a1516b3804e3"
      },
      "execution_count": 9,
      "outputs": [
        {
          "output_type": "stream",
          "name": "stdout",
          "text": [
            "[1]\n"
          ]
        }
      ]
    },
    {
      "cell_type": "markdown",
      "source": [
        "Seems like if you appear on Marvel 1500 times, you'll be dead."
      ],
      "metadata": {
        "id": "3AnTlqdfvy-K"
      }
    },
    {
      "cell_type": "markdown",
      "source": [
        "#Pick your own: Logistic Regression"
      ],
      "metadata": {
        "id": "QgWNOUP_w5Bf"
      }
    },
    {
      "cell_type": "code",
      "source": [
        "df = pa.read_csv('https://raw.githubusercontent.com/nurfnick/Data_Sets_For_Stats/master/CuratedDataSets/100mOlympicRecords.csv')\n"
      ],
      "metadata": {
        "id": "iX5eQeGexGac"
      },
      "execution_count": 14,
      "outputs": []
    },
    {
      "cell_type": "code",
      "source": [
        "plt.scatter(df['Time'],df['Games'])\n"
      ],
      "metadata": {
        "colab": {
          "base_uri": "https://localhost:8080/",
          "height": 448
        },
        "id": "SKS2qsZXxNut",
        "outputId": "3b77dcf1-6600-4aa2-f9fe-136bdf1e1e10"
      },
      "execution_count": 15,
      "outputs": [
        {
          "output_type": "execute_result",
          "data": {
            "text/plain": [
              "<matplotlib.collections.PathCollection at 0x78d9e132da80>"
            ]
          },
          "metadata": {},
          "execution_count": 15
        },
        {
          "output_type": "display_data",
          "data": {
            "text/plain": [
              "<Figure size 640x480 with 1 Axes>"
            ],
            "image/png": "[encoded data removed]"
          },
          "metadata": {}
        }
      ]
    },
    {
      "cell_type": "markdown",
      "source": [
        "I'll use Simple Linear Regression because it is a continuous int outcome y not categorial."
      ],
      "metadata": {
        "id": "N72eeHWUxnIs"
      }
    },
    {
      "cell_type": "code",
      "source": [
        "X = np.array(df.Games).reshape(-1, 1)\n",
        "y = np.array(df.Time).reshape(-1, 1)\n",
        "\n",
        "#regrr = linear_model.LinearRegression()\n",
        "#regrr.fit(X, y)\n",
        "\n",
        "#predict2024 = regrr.predict(np.array([[2024]]).reshape(-1, 1))\n",
        "#predict2030 = regrr.predict(np.array([[2030]]).reshape(-1, 1))\n",
        "\n",
        "#print(\"Prediction for 2024: \", predict2024)\n",
        "#print(\"Prediction for 2030: \", predict2030)\n",
        "print(np.shape(X))\n",
        "print(np.shape(y))"
      ],
      "metadata": {
        "colab": {
          "base_uri": "https://localhost:8080/"
        },
        "id": "tBsJDrkDx2ne",
        "outputId": "6376bd1a-5541-4c0d-8ebb-b4d2aadc7653"
      },
      "execution_count": 28,
      "outputs": [
        {
          "output_type": "stream",
          "name": "stdout",
          "text": [
            "(76, 1)\n",
            "(76, 1)\n"
          ]
        }
      ]
    },
    {
      "cell_type": "markdown",
      "source": [
        "I think it looks pretty good. It seems to line up with other records."
      ],
      "metadata": {
        "id": "KR9O3j4izkei"
      }
    },
    {
      "cell_type": "code",
      "source": [
        "import numpy as np\n",
        "import matplotlib.pyplot as plt\n",
        "from scipy.optimize import curve_fit"
      ],
      "metadata": {
        "id": "eP-q5lMVzXoj"
      },
      "execution_count": 24,
      "outputs": []
    },
    {
      "cell_type": "code",
      "source": [
        "def quadratic_func(x, a, b, c):\n",
        "    return a + b * x + c * x**2"
      ],
      "metadata": {
        "id": "bEqDlEknPYyb"
      },
      "execution_count": 29,
      "outputs": []
    },
    {
      "cell_type": "code",
      "source": [
        "np.random.seed(0)\n",
        "a = np.linspace(-5, 5, num=50)\n",
        "b = 2.0 + 1.5 * x + 3.0 * x**2 + np.random.normal(scale=3.0, size=x.shape)\n",
        "print(np.shape(b))"
      ],
      "metadata": {
        "id": "5AwhaRn9PxkH",
        "outputId": "bbf0ada0-46f9-418a-87d9-e07a06ac5634",
        "colab": {
          "base_uri": "https://localhost:8080/"
        }
      },
      "execution_count": 33,
      "outputs": [
        {
          "output_type": "stream",
          "name": "stdout",
          "text": [
            "(1076, 2)\n"
          ]
        }
      ]
    },
    {
      "cell_type": "code",
      "source": [
        "popt, pcov = curve_fit(quadratic_func, df['Games'], df['Time'])"
      ],
      "metadata": {
        "id": "J8j1r8X7R526"
      },
      "execution_count": 34,
      "outputs": []
    },
    {
      "cell_type": "code",
      "source": [
        "plt.scatter(X, y, label='Data')\n",
        "plt.plot(x, quadratic_func(x, *popt), 'r-', label='Fit')\n",
        "plt.legend()\n",
        "plt.show()"
      ],
      "metadata": {
        "id": "CPTtn9x9TKEo",
        "outputId": "712ec8f3-d223-48c5-d302-7b1bcf8e0857",
        "colab": {
          "base_uri": "https://localhost:8080/",
          "height": 430
        }
      },
      "execution_count": 37,
      "outputs": [
        {
          "output_type": "display_data",
          "data": {
            "text/plain": [
              "<Figure size 640x480 with 1 Axes>"
            ],
            "image/png": "[encoded data removed]"
          },
          "metadata": {}
        }
      ]
    }
  ]
}